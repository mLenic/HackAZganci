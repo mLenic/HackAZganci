{
 "cells": [
  {
   "cell_type": "code",
   "execution_count": 1,
   "metadata": {},
   "outputs": [],
   "source": [
    "import json\n",
    "import numpy as np\n",
    "import pandas as pd\n",
    "import matplotlib.pyplot as plt\n",
    "from scipy import stats"
   ]
  },
  {
   "cell_type": "code",
   "execution_count": 2,
   "metadata": {},
   "outputs": [],
   "source": [
    "with open('./data/full.json') as f:\n",
    "    data = json.load(f)"
   ]
  },
  {
   "cell_type": "code",
   "execution_count": 3,
   "metadata": {},
   "outputs": [
    {
     "data": {
      "text/plain": [
       "{'Avtorji': None,\n",
       " 'Datacija': 'zadnja četrtina 18. stol., 19. stol., prva polovica 20. stol., prva četrtina 21. stol., 2012',\n",
       " 'ESD': 29884.0,\n",
       " 'LokacijaOp': 'Muzej na prostem je urejen na južnem obrobju Šentruperta na Dolenjskem.',\n",
       " 'Podrocja': 'etnologija, krajinska arhitektura, tehniška zgodovina',\n",
       " 'Sinonimi': None,\n",
       " 'Varstvo': 'spomenik lokalnega pomena',\n",
       " 'Zavod': 'ZVKD Novo mesto',\n",
       " 'Zvrst': 'stavbe',\n",
       " 'description': 'Muzej na prostem sestavljajo skupina 17 kozolcev različnih tipov in dve enostavni sušilni napravi (belokranjska ostrv in ribniški kozouček). Postavitev iz 2012 prikazuje genezo kozolca na Slovenskem in raznolikost kozolcev v Mirnski dolini.',\n",
       " 'keywords': 'muzej na prostem, kozolec na psa, kozolec s plaščem, enojni kozolec, nizki kozolec, toplar, vzporedni kozolec',\n",
       " 'latitude': 45.9748324693,\n",
       " 'longitude': 15.0914351743,\n",
       " 'name': 'Muzej na prostem',\n",
       " 'region': 'ŠENTRUPERT',\n",
       " 'type': 'profana stavbna dediščina',\n",
       " 'address': None,\n",
       " 'city': None,\n",
       " 'postal_code': None}"
      ]
     },
     "execution_count": 3,
     "metadata": {},
     "output_type": "execute_result"
    }
   ],
   "source": [
    "data[0]"
   ]
  },
  {
   "cell_type": "code",
   "execution_count": 4,
   "metadata": {},
   "outputs": [],
   "source": [
    "seed_coords = 46.329168, 14.232350"
   ]
  },
  {
   "cell_type": "code",
   "execution_count": 5,
   "metadata": {},
   "outputs": [
    {
     "data": {
      "text/plain": [
       "array([[45.97483247, 15.09143517],\n",
       "       [46.55781501, 15.64419927],\n",
       "       [46.18971074, 13.57812696],\n",
       "       ...,\n",
       "       [45.9579502 , 15.4952236 ],\n",
       "       [46.3594701 , 15.1142968 ],\n",
       "       [46.2390931 , 14.3553071 ]])"
      ]
     },
     "execution_count": 5,
     "metadata": {},
     "output_type": "execute_result"
    }
   ],
   "source": [
    "coords = np.empty((len(data), 2), dtype=float)\n",
    "\n",
    "for idx, entry in enumerate(data):\n",
    "    coords[idx] = [entry['latitude'], entry['longitude']]\n",
    "    \n",
    "coords"
   ]
  },
  {
   "cell_type": "code",
   "execution_count": 6,
   "metadata": {},
   "outputs": [
    {
     "data": {
      "text/plain": [
       "2198"
      ]
     },
     "execution_count": 6,
     "metadata": {},
     "output_type": "execute_result"
    }
   ],
   "source": [
    "len(coords)"
   ]
  },
  {
   "cell_type": "code",
   "execution_count": 7,
   "metadata": {},
   "outputs": [],
   "source": [
    "def haversine(lon1, lat1, lon2, lat2):\n",
    "    lon1, lat1, lon2, lat2 = map(np.radians, [lon1, lat1, lon2, lat2])\n",
    "\n",
    "    dlon = lon2 - lon1\n",
    "    dlat = lat2 - lat1\n",
    "\n",
    "    a = np.sin(dlat/2.0)**2 + np.cos(lat1) * np.cos(lat2) * np.sin(dlon/2.0)**2\n",
    "\n",
    "    c = 2 * np.arcsin(np.sqrt(a))\n",
    "    km = 6367 * c\n",
    "    return km"
   ]
  },
  {
   "cell_type": "code",
   "execution_count": 8,
   "metadata": {},
   "outputs": [
    {
     "data": {
      "text/plain": [
       "array([102.78529268, 158.80089261,  74.24061575, ..., 145.89073306,\n",
       "        98.06055781,  16.75645814])"
      ]
     },
     "execution_count": 8,
     "metadata": {},
     "output_type": "execute_result"
    }
   ],
   "source": [
    "distances = haversine(seed_coords[0], seed_coords[1], coords[:, 0], coords[:, 1])\n",
    "distances"
   ]
  },
  {
   "cell_type": "code",
   "execution_count": 9,
   "metadata": {},
   "outputs": [],
   "source": [
    "max_km_distance = 10\n",
    "sd = max_km_distance / 2\n",
    "probabilities = stats.norm.pdf(distances, loc=0, scale=sd)\n",
    "probabilities /= np.sum(probabilities)"
   ]
  },
  {
   "cell_type": "code",
   "execution_count": 10,
   "metadata": {},
   "outputs": [
    {
     "data": {
      "text/plain": [
       "{'Avtorji': None,\n",
       " 'Datacija': 'tretja četrtina 19. stol., 1870, prelom 19. stol. in 20. stol., 1894, 1910',\n",
       " 'ESD': 27644.0,\n",
       " 'LokacijaOp': 'Bodlajev vigenjc stoji v jugozahodnem delu Krope imenovanem Zgornji Konec, ob desnem bregu potoka Kroparice.',\n",
       " 'Podrocja': 'tehniška zgodovina',\n",
       " 'Sinonimi': None,\n",
       " 'Varstvo': 'dediščina',\n",
       " 'Zavod': 'ZVKD Kranj',\n",
       " 'Zvrst': 'stavbe',\n",
       " 'description': 'Pritlična iz kamna zidana dvocelična stavba z dvokapnicama je kovačnica za ročno kovanje žebljev, sezidana leta 1870 na mestu lesenega vigenjca, ki je tega leta pogorel. Po letu 1894 jo kupi zadruga za žebljarsko obrt. Leta 1910 delo v njej opustij',\n",
       " 'keywords': 'kovačija',\n",
       " 'latitude': 46.2889619359,\n",
       " 'longitude': 14.199442276,\n",
       " 'name': 'Bodlajev vigenjc',\n",
       " 'region': 'RADOVLJICA',\n",
       " 'type': 'profana stavbna dediščina',\n",
       " 'address': None,\n",
       " 'city': None,\n",
       " 'postal_code': None}"
      ]
     },
     "execution_count": 10,
     "metadata": {},
     "output_type": "execute_result"
    }
   ],
   "source": [
    "idx = np.random.choice(list(range(len(coords))), size=5, p=probabilities)\n",
    "data[idx[0]]"
   ]
  },
  {
   "cell_type": "markdown",
   "metadata": {},
   "source": [
    "## Iterative recommender"
   ]
  },
  {
   "cell_type": "code",
   "execution_count": 11,
   "metadata": {},
   "outputs": [],
   "source": [
    "current_coords = seed_coords"
   ]
  },
  {
   "cell_type": "code",
   "execution_count": 12,
   "metadata": {},
   "outputs": [],
   "source": [
    "# Keep a list of locations that have not yet been visited\n",
    "location_ids = list(range(len(coords)))"
   ]
  },
  {
   "cell_type": "code",
   "execution_count": 13,
   "metadata": {},
   "outputs": [],
   "source": [
    "path = []"
   ]
  },
  {
   "cell_type": "code",
   "execution_count": 14,
   "metadata": {},
   "outputs": [],
   "source": [
    "max_km_distance = 10\n",
    "sd = max_km_distance / 2"
   ]
  },
  {
   "cell_type": "code",
   "execution_count": 15,
   "metadata": {},
   "outputs": [
    {
     "data": {
      "text/plain": [
       "[1584, 2048, 1613, 1599, 1606]"
      ]
     },
     "execution_count": 15,
     "metadata": {},
     "output_type": "execute_result"
    }
   ],
   "source": [
    "for i in range(5):\n",
    "    distances = haversine(current_coords[0], current_coords[1], coords[:, 0], coords[:, 1])\n",
    "    \n",
    "    probabilities = stats.norm.pdf(distances, loc=0, scale=sd)\n",
    "    # Zero out already visited locations so the same place is not recommended twice\n",
    "    probabilities[path] = 0\n",
    "    probabilities /= np.sum(probabilities)\n",
    "    \n",
    "    idx = np.random.choice(location_ids, p=probabilities)\n",
    "    \n",
    "    path.append(idx)\n",
    "    entry = data[idx]\n",
    "    current_coords = entry['latitude'], entry['longitude']\n",
    "    \n",
    "path"
   ]
  },
  {
   "cell_type": "code",
   "execution_count": 16,
   "metadata": {},
   "outputs": [
    {
     "data": {
      "text/plain": [
       "'Kapusova graščina, Freska na hiši Rodine 9, Ruševine gradu Pusti grad, Graščina, Šivčeva hiša'"
      ]
     },
     "execution_count": 16,
     "metadata": {},
     "output_type": "execute_result"
    }
   ],
   "source": [
    "', '.join(data[idx]['name'] for idx in path)"
   ]
  },
  {
   "cell_type": "code",
   "execution_count": null,
   "metadata": {},
   "outputs": [],
   "source": []
  }
 ],
 "metadata": {
  "kernelspec": {
   "display_name": "Python 3",
   "language": "python",
   "name": "python3"
  },
  "language_info": {
   "codemirror_mode": {
    "name": "ipython",
    "version": 3
   },
   "file_extension": ".py",
   "mimetype": "text/x-python",
   "name": "python",
   "nbconvert_exporter": "python",
   "pygments_lexer": "ipython3",
   "version": "3.7.0"
  }
 },
 "nbformat": 4,
 "nbformat_minor": 2
}
