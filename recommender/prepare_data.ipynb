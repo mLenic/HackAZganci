{
 "cells": [
  {
   "cell_type": "code",
   "execution_count": 1,
   "metadata": {},
   "outputs": [],
   "source": [
    "import numpy as np\n",
    "import pandas as pd\n",
    "import matplotlib.pyplot as plt\n",
    "import pyowm\n",
    "import json"
   ]
  },
  {
   "cell_type": "code",
   "execution_count": 2,
   "metadata": {},
   "outputs": [],
   "source": [
    "owm = pyowm.OWM('c93dea5aa8b325c9c6acd4728627cd62')"
   ]
  },
  {
   "cell_type": "code",
   "execution_count": 3,
   "metadata": {},
   "outputs": [
    {
     "data": {
      "text/plain": [
       "<pyowm.webapi25.observation.Observation - reception time=2018-10-01 14:34:32+00>"
      ]
     },
     "execution_count": 3,
     "metadata": {},
     "output_type": "execute_result"
    }
   ],
   "source": [
    "obs = owm.weather_at_coords(45.9748324693, 15.0914351743)\n",
    "obs"
   ]
  },
  {
   "cell_type": "code",
   "execution_count": 4,
   "metadata": {},
   "outputs": [
    {
     "name": "stdout",
     "output_type": "stream",
     "text": [
      "<pyowm.webapi25.weather.Weather - reference time=2018-10-01 14:00:00+00, status=rain, detailed status=light rain>\n"
     ]
    }
   ],
   "source": [
    "print(obs.get_weather())"
   ]
  },
  {
   "cell_type": "code",
   "execution_count": 5,
   "metadata": {},
   "outputs": [],
   "source": [
    "lj_center = 46.053310, 14.504023"
   ]
  },
  {
   "cell_type": "code",
   "execution_count": 6,
   "metadata": {},
   "outputs": [
    {
     "data": {
      "text/plain": [
       "[{'ESD': 29884,\n",
       "  'Zvrst': 'stavbe',\n",
       "  'Datacija': 'zadnja četrtina 18. stol., 19. stol., prva polovica 20. stol., prva četrtina 21. stol., 2012',\n",
       "  'LokacijaOp': 'Muzej na prostem je urejen na južnem obrobju Šentruperta na Dolenjskem.',\n",
       "  'Podrocja': 'etnologija, krajinska arhitektura, tehniška zgodovina',\n",
       "  'Zavod': 'ZVKD Novo mesto',\n",
       "  'Varstvo': 'spomenik lokalnega pomena',\n",
       "  'latitude': 45.9748324693,\n",
       "  'longitude': 15.0914351743,\n",
       "  'name': 'Muzej na prostem',\n",
       "  'description': 'Muzej na prostem sestavljajo skupina 17 kozolcev različnih tipov in dve enostavni sušilni napravi (belokranjska ostrv in ribniški kozouček). Postavitev iz 2012 prikazuje genezo kozolca na Slovenskem in raznolikost kozolcev v Mirnski dolini.',\n",
       "  'keywords': 'muzej na prostem, kozolec na psa, kozolec s plaščem, enojni kozolec, nizki kozolec, toplar, vzporedni kozolec',\n",
       "  'type': 'profana stavbna dediščina',\n",
       "  'region': 'ŠENTRUPERT'},\n",
       " {'ESD': 6118,\n",
       "  'Zvrst': 'stavbe',\n",
       "  'Datacija': 'prva polovica 16. stol., 17. stol., 19. stol.',\n",
       "  'Avtorji': 'Max Czeike (arhitekt; 1925)',\n",
       "  'LokacijaOp': 'Koroška cesta 2. Hiša stoji na vogalu Koroške ceste in Glavnega trga.',\n",
       "  'Podrocja': 'umetnostna zgodovina',\n",
       "  'Zavod': 'ZVKD Maribor',\n",
       "  'Varstvo': 'spomenik lokalnega pomena',\n",
       "  'latitude': 46.5578150128,\n",
       "  'longitude': 15.6441992715,\n",
       "  'name': 'Hiša Koroška 2',\n",
       "  'description': 'Nadstropna vogalna stavba poznosrednjeveške zasnove, sedanja podoba je iz 17. stoletja. Poudarjena osrednja os fasade ob ulici. Banjasto obokana veža, poznogotski konzolast portal. Nekdanja pivovarna.',\n",
       "  'keywords': 'hiša, pivovarna',\n",
       "  'type': 'profana stavbna dediščina',\n",
       "  'region': 'MARIBOR'},\n",
       " {'ESD': 29525,\n",
       "  'Zvrst': 'stavbe',\n",
       "  'Datacija': '18. stol, 19. stol., druga polovica 20. stol., prva četrtina 21. stol., 2015',\n",
       "  'LokacijaOp': 'Nježna hiša stoji na domačiji Jevšček 7, v vzhodnem delu vasi Jevšček.',\n",
       "  'Podrocja': 'etnologija',\n",
       "  'Zavod': 'ZVKD Nova Gorica',\n",
       "  'Varstvo': 'spomenik lokalnega pomena',\n",
       "  'latitude': 46.1897107375,\n",
       "  'longitude': 13.5781269643,\n",
       "  'name': 'Nježna hiša',\n",
       "  'description': 'Vrhkletna oz. vrhhlevna kamnita hiša s štiridelno tlorisno zasnovo, do sredine 20. stol. pokrita s slamo, ima fasade opremljene s kamnitimi in lesenimi elementi. V črni kuhinji je nizko ognjišče, v sobi zidana peč. Ohranjen inventar. Obnovljena 201',\n",
       "  'keywords': 'vrhhlevna hiša, črna kuhinja',\n",
       "  'type': 'profana stavbna dediščina',\n",
       "  'region': 'KOBARID'}]"
      ]
     },
     "execution_count": 6,
     "metadata": {},
     "output_type": "execute_result"
    }
   ],
   "source": [
    "with open('./data/cultural.json') as f:\n",
    "    cultural = json.load(f)\n",
    "    \n",
    "for entry in cultural:\n",
    "    # Properly name latitude and longitude\n",
    "    entry['latitude'] = entry.pop('WGS.X')\n",
    "    entry['longitude'] = entry.pop('WGS.Y')\n",
    "    \n",
    "    # Remove other xy coords since we don't know what they are\n",
    "    del entry['X'], entry['Y']\n",
    "    \n",
    "    # Consistent naming of attributes\n",
    "    name = entry.pop('Ime')\n",
    "    if '- ' in name:\n",
    "        name = name.split('- ')[1]\n",
    "    entry['name'] = name\n",
    "    \n",
    "    entry['description'] = entry.pop('Opis')\n",
    "    entry['keywords'] = entry.pop('Gesla')\n",
    "    entry['type'] = entry.pop('Tip')\n",
    "    entry['region'] = entry.pop('Obcina')\n",
    "    \n",
    "cultural[:3]"
   ]
  },
  {
   "cell_type": "code",
   "execution_count": 7,
   "metadata": {},
   "outputs": [
    {
     "data": {
      "text/plain": [
       "[{'latitude': 46.05208205,\n",
       "  'longitude': 14.4995157278,\n",
       "  'name': 'Narodni muzej Slovenije',\n",
       "  'address': 'Prešernova cesta 20',\n",
       "  'city': 'LJUBLJANA',\n",
       "  'postal_code': 1000,\n",
       "  'type': 'museum',\n",
       "  'region': 'LJUBLJANA'},\n",
       " {'latitude': 46.05208205,\n",
       "  'longitude': 14.4995157278,\n",
       "  'name': 'Prirodoslovni muzej Slovenije',\n",
       "  'address': 'Prešernova cesta 20',\n",
       "  'city': 'LJUBLJANA',\n",
       "  'postal_code': 1000,\n",
       "  'type': 'museum',\n",
       "  'region': 'LJUBLJANA'},\n",
       " {'latitude': 46.0643354,\n",
       "  'longitude': 14.5369116,\n",
       "  'name': 'Slovenski etnografski muzej',\n",
       "  'address': 'Metelkova 2',\n",
       "  'city': 'LJUBLJANA',\n",
       "  'postal_code': 1000,\n",
       "  'type': 'museum',\n",
       "  'region': 'LJUBLJANA'}]"
      ]
     },
     "execution_count": 7,
     "metadata": {},
     "output_type": "execute_result"
    }
   ],
   "source": [
    "with open('./data/museums.json') as f:\n",
    "    museums = json.load(f)\n",
    "    \n",
    "for entry in museums:\n",
    "    # Properly name latitude and longitude\n",
    "    entry['latitude'] = entry.pop('gps_lat')\n",
    "    entry['longitude'] = entry.pop('gps_long')\n",
    "    \n",
    "    # Consistent naming of attributes\n",
    "    entry['name'] = entry.pop('Ime javnega zavoda')\n",
    "    entry['address'] = entry.pop('Naslov', '')\n",
    "    entry['city'] = entry.pop('X6', '')\n",
    "    entry['postal_code'] = entry.pop('X5', '')\n",
    "    \n",
    "    # Remove unneeded attributes\n",
    "    del entry['X1']\n",
    "    entry.pop('X2', None)\n",
    "    entry.pop('Status', None)\n",
    "    \n",
    "    entry['type'] = 'museum'\n",
    "    entry['region'] = entry['city'].upper()\n",
    "    \n",
    "museums[:3]"
   ]
  },
  {
   "cell_type": "code",
   "execution_count": 8,
   "metadata": {},
   "outputs": [],
   "source": [
    "df_culture = pd.DataFrame.from_dict(cultural)"
   ]
  },
  {
   "cell_type": "code",
   "execution_count": 9,
   "metadata": {},
   "outputs": [
    {
     "data": {
      "text/plain": [
       "LJUBLJANA                       341\n",
       "NOVO MESTO                       54\n",
       "MARIBOR                          50\n",
       "SEŽANA                           47\n",
       "RADOVLJICA                       45\n",
       "TOLMIN                           44\n",
       "KOPER                            42\n",
       "POSTOJNA                         38\n",
       "IDRIJA                           36\n",
       "KOBARID                          34\n",
       "BREŽICE                          33\n",
       "KRANJ                            32\n",
       "DIVAČA                           32\n",
       "NOVA GORICA                      31\n",
       "VIPAVA                           28\n",
       "PIRAN                            28\n",
       "ŠKOFJA LOKA                      27\n",
       "ČRNOMELJ                         24\n",
       "KAMNIK                           24\n",
       "AJDOVŠČINA                       24\n",
       "CELJE                            22\n",
       "KOMEN                            22\n",
       "KRŠKO                            22\n",
       "PIVKA                            21\n",
       "BOHINJ                           21\n",
       "ILIRSKA BISTRICA                 20\n",
       "BRDA                             20\n",
       "SLOVENSKA BISTRICA               20\n",
       "KRANJSKA GORA                    19\n",
       "BOVEC                            18\n",
       "                               ... \n",
       "MIKLAVŽ NA DRAVSKEM POLJU         1\n",
       "ŠMARTNO OB PAKI                   1\n",
       "RAZKRIŽJE                         1\n",
       "SREDIŠČE OB DRAVI                 1\n",
       "PREBOLD                           1\n",
       "DUPLEK                            1\n",
       "GORIŠNICA                         1\n",
       "VIDEM                             1\n",
       "SVETI TOMAŽ                       1\n",
       "PESNICA                           1\n",
       "DOBJE                             1\n",
       "ŠENTILJ                           1\n",
       "RIBNICA                           1\n",
       "SVETI ANDRAŽ V SLOV. GORICAH      1\n",
       "KOBILJE                           1\n",
       "DOBREPOLJE                        1\n",
       "ŽIRI                              1\n",
       "MOZIRJE                           1\n",
       "CIRKULANE                         1\n",
       "DESTRNIK                          1\n",
       "PODLEHNIK                         1\n",
       "HORJUL                            1\n",
       "ANKARAN                           1\n",
       "RIBNICA NA POHORJU                1\n",
       "ČRENŠOVCI                         1\n",
       "LUČE                              1\n",
       "BOROVNICA                         1\n",
       "OSILNICA                          1\n",
       "ŽETALE                            1\n",
       "VRANSKO                           1\n",
       "Name: region, Length: 199, dtype: int64"
      ]
     },
     "execution_count": 9,
     "metadata": {},
     "output_type": "execute_result"
    }
   ],
   "source": [
    "df_culture.region.value_counts()"
   ]
  },
  {
   "cell_type": "code",
   "execution_count": 10,
   "metadata": {},
   "outputs": [],
   "source": [
    "df_museums = pd.DataFrame.from_dict(museums)"
   ]
  },
  {
   "cell_type": "code",
   "execution_count": 11,
   "metadata": {},
   "outputs": [
    {
     "data": {
      "text/plain": [
       "LJUBLJANA               13\n",
       "MARIBOR                  4\n",
       "CELJE                    2\n",
       "VELENJE                  2\n",
       "MURSKA SOBOTA            2\n",
       "SLOVENJ GRADEC           2\n",
       "KRANJ                    2\n",
       "PIRAN                    2\n",
       "PTUJ                     1\n",
       "TOLMIN                   1\n",
       "IDRIJA                   1\n",
       "RIBNICA                  1\n",
       "KAMNIK                   1\n",
       "KOČEVJE                  1\n",
       "KOBARID                  1\n",
       "METLIKA                  1\n",
       "NOVA GORICA              1\n",
       "JESENICE                 1\n",
       "KOPER                    1\n",
       "TRŽIČ                    1\n",
       "ROGATEC                  1\n",
       "KOSTANJEVICA NA KRKI     1\n",
       "BREŽICE                  1\n",
       "ŠKOFJA LOKA              1\n",
       "TRBOVLJE                 1\n",
       "IVANČNA GORICA           1\n",
       "KRŠKO                    1\n",
       "LENDAVA-LENDAVA          1\n",
       "NOVO MESTO               1\n",
       "AJDOVŠČINA               1\n",
       "RADOVLJICA               1\n",
       "POSTOJNA                 1\n",
       "                         1\n",
       "Name: region, dtype: int64"
      ]
     },
     "execution_count": 11,
     "metadata": {},
     "output_type": "execute_result"
    }
   ],
   "source": [
    "df_museums.region.value_counts()"
   ]
  },
  {
   "cell_type": "code",
   "execution_count": 12,
   "metadata": {},
   "outputs": [
    {
     "data": {
      "text/html": [
       "<div>\n",
       "<style scoped>\n",
       "    .dataframe tbody tr th:only-of-type {\n",
       "        vertical-align: middle;\n",
       "    }\n",
       "\n",
       "    .dataframe tbody tr th {\n",
       "        vertical-align: top;\n",
       "    }\n",
       "\n",
       "    .dataframe thead th {\n",
       "        text-align: right;\n",
       "    }\n",
       "</style>\n",
       "<table border=\"1\" class=\"dataframe\">\n",
       "  <thead>\n",
       "    <tr style=\"text-align: right;\">\n",
       "      <th></th>\n",
       "      <th>Avtorji</th>\n",
       "      <th>Datacija</th>\n",
       "      <th>ESD</th>\n",
       "      <th>LokacijaOp</th>\n",
       "      <th>Podrocja</th>\n",
       "      <th>Sinonimi</th>\n",
       "      <th>Varstvo</th>\n",
       "      <th>Zavod</th>\n",
       "      <th>Zvrst</th>\n",
       "      <th>description</th>\n",
       "      <th>keywords</th>\n",
       "      <th>latitude</th>\n",
       "      <th>longitude</th>\n",
       "      <th>name</th>\n",
       "      <th>region</th>\n",
       "      <th>type</th>\n",
       "      <th>address</th>\n",
       "      <th>city</th>\n",
       "      <th>postal_code</th>\n",
       "    </tr>\n",
       "  </thead>\n",
       "  <tbody>\n",
       "    <tr>\n",
       "      <th>0</th>\n",
       "      <td>NaN</td>\n",
       "      <td>zadnja četrtina 18. stol., 19. stol., prva pol...</td>\n",
       "      <td>29884.0</td>\n",
       "      <td>Muzej na prostem je urejen na južnem obrobju Š...</td>\n",
       "      <td>etnologija, krajinska arhitektura, tehniška zg...</td>\n",
       "      <td>NaN</td>\n",
       "      <td>spomenik lokalnega pomena</td>\n",
       "      <td>ZVKD Novo mesto</td>\n",
       "      <td>stavbe</td>\n",
       "      <td>Muzej na prostem sestavljajo skupina 17 kozolc...</td>\n",
       "      <td>muzej na prostem, kozolec na psa, kozolec s pl...</td>\n",
       "      <td>45.974832</td>\n",
       "      <td>15.091435</td>\n",
       "      <td>Muzej na prostem</td>\n",
       "      <td>ŠENTRUPERT</td>\n",
       "      <td>profana stavbna dediščina</td>\n",
       "      <td>NaN</td>\n",
       "      <td>NaN</td>\n",
       "      <td>NaN</td>\n",
       "    </tr>\n",
       "    <tr>\n",
       "      <th>1</th>\n",
       "      <td>Max Czeike (arhitekt; 1925)</td>\n",
       "      <td>prva polovica 16. stol., 17. stol., 19. stol.</td>\n",
       "      <td>6118.0</td>\n",
       "      <td>Koroška cesta 2. Hiša stoji na vogalu Koroške ...</td>\n",
       "      <td>umetnostna zgodovina</td>\n",
       "      <td>NaN</td>\n",
       "      <td>spomenik lokalnega pomena</td>\n",
       "      <td>ZVKD Maribor</td>\n",
       "      <td>stavbe</td>\n",
       "      <td>Nadstropna vogalna stavba poznosrednjeveške za...</td>\n",
       "      <td>hiša, pivovarna</td>\n",
       "      <td>46.557815</td>\n",
       "      <td>15.644199</td>\n",
       "      <td>Hiša Koroška 2</td>\n",
       "      <td>MARIBOR</td>\n",
       "      <td>profana stavbna dediščina</td>\n",
       "      <td>NaN</td>\n",
       "      <td>NaN</td>\n",
       "      <td>NaN</td>\n",
       "    </tr>\n",
       "    <tr>\n",
       "      <th>2</th>\n",
       "      <td>NaN</td>\n",
       "      <td>18. stol, 19. stol., druga polovica 20. stol.,...</td>\n",
       "      <td>29525.0</td>\n",
       "      <td>Nježna hiša stoji na domačiji Jevšček 7, v vzh...</td>\n",
       "      <td>etnologija</td>\n",
       "      <td>NaN</td>\n",
       "      <td>spomenik lokalnega pomena</td>\n",
       "      <td>ZVKD Nova Gorica</td>\n",
       "      <td>stavbe</td>\n",
       "      <td>Vrhkletna oz. vrhhlevna kamnita hiša s štiride...</td>\n",
       "      <td>vrhhlevna hiša, črna kuhinja</td>\n",
       "      <td>46.189711</td>\n",
       "      <td>13.578127</td>\n",
       "      <td>Nježna hiša</td>\n",
       "      <td>KOBARID</td>\n",
       "      <td>profana stavbna dediščina</td>\n",
       "      <td>NaN</td>\n",
       "      <td>NaN</td>\n",
       "      <td>NaN</td>\n",
       "    </tr>\n",
       "    <tr>\n",
       "      <th>3</th>\n",
       "      <td>NaN</td>\n",
       "      <td>sredina 19. stol., 1830, 1870</td>\n",
       "      <td>23737.0</td>\n",
       "      <td>Kopališka ulica 14, 16, 20, 22, 23. Dvorec sto...</td>\n",
       "      <td>umetnostna zgodovina, krajinska arhitektura</td>\n",
       "      <td>Strnišče</td>\n",
       "      <td>spomenik lokalnega pomena</td>\n",
       "      <td>ZVKD Maribor</td>\n",
       "      <td>stavbe s parki ali z vrtovi</td>\n",
       "      <td>Nadstropna stavba s tlorisom v L in slikovito ...</td>\n",
       "      <td>dvorec, gospodarsko poslopje, drevored, marof</td>\n",
       "      <td>46.403391</td>\n",
       "      <td>15.789574</td>\n",
       "      <td>Dvorec Sternthal</td>\n",
       "      <td>KIDRIČEVO</td>\n",
       "      <td>profana stavbna dediščina</td>\n",
       "      <td>NaN</td>\n",
       "      <td>NaN</td>\n",
       "      <td>NaN</td>\n",
       "    </tr>\n",
       "    <tr>\n",
       "      <th>4</th>\n",
       "      <td>Zdenko Kalin (kipar; 1942)</td>\n",
       "      <td>druga četrtina 20. stol., 1942, 1946</td>\n",
       "      <td>20023.0</td>\n",
       "      <td>Kip stoji v parku Tivoli, nad otroškim igriščem.</td>\n",
       "      <td>umetnostna zgodovina</td>\n",
       "      <td>Deček s piščalko</td>\n",
       "      <td>dediščina</td>\n",
       "      <td>ZVKD Ljubljana</td>\n",
       "      <td>spominski objekti in kraji</td>\n",
       "      <td>Bronast kip Pastirček ali Deček s piščalko del...</td>\n",
       "      <td>vrtna plastika</td>\n",
       "      <td>46.053135</td>\n",
       "      <td>14.494178</td>\n",
       "      <td>Bronast kip Pastirček</td>\n",
       "      <td>LJUBLJANA</td>\n",
       "      <td>profana stavbna dediščina</td>\n",
       "      <td>NaN</td>\n",
       "      <td>NaN</td>\n",
       "      <td>NaN</td>\n",
       "    </tr>\n",
       "  </tbody>\n",
       "</table>\n",
       "</div>"
      ],
      "text/plain": [
       "                       Avtorji  \\\n",
       "0                          NaN   \n",
       "1  Max Czeike (arhitekt; 1925)   \n",
       "2                          NaN   \n",
       "3                          NaN   \n",
       "4   Zdenko Kalin (kipar; 1942)   \n",
       "\n",
       "                                            Datacija      ESD  \\\n",
       "0  zadnja četrtina 18. stol., 19. stol., prva pol...  29884.0   \n",
       "1      prva polovica 16. stol., 17. stol., 19. stol.   6118.0   \n",
       "2  18. stol, 19. stol., druga polovica 20. stol.,...  29525.0   \n",
       "3                      sredina 19. stol., 1830, 1870  23737.0   \n",
       "4               druga četrtina 20. stol., 1942, 1946  20023.0   \n",
       "\n",
       "                                          LokacijaOp  \\\n",
       "0  Muzej na prostem je urejen na južnem obrobju Š...   \n",
       "1  Koroška cesta 2. Hiša stoji na vogalu Koroške ...   \n",
       "2  Nježna hiša stoji na domačiji Jevšček 7, v vzh...   \n",
       "3  Kopališka ulica 14, 16, 20, 22, 23. Dvorec sto...   \n",
       "4   Kip stoji v parku Tivoli, nad otroškim igriščem.   \n",
       "\n",
       "                                            Podrocja          Sinonimi  \\\n",
       "0  etnologija, krajinska arhitektura, tehniška zg...               NaN   \n",
       "1                               umetnostna zgodovina               NaN   \n",
       "2                                         etnologija               NaN   \n",
       "3        umetnostna zgodovina, krajinska arhitektura          Strnišče   \n",
       "4                               umetnostna zgodovina  Deček s piščalko   \n",
       "\n",
       "                     Varstvo             Zavod                        Zvrst  \\\n",
       "0  spomenik lokalnega pomena   ZVKD Novo mesto                       stavbe   \n",
       "1  spomenik lokalnega pomena      ZVKD Maribor                       stavbe   \n",
       "2  spomenik lokalnega pomena  ZVKD Nova Gorica                       stavbe   \n",
       "3  spomenik lokalnega pomena      ZVKD Maribor  stavbe s parki ali z vrtovi   \n",
       "4                  dediščina    ZVKD Ljubljana   spominski objekti in kraji   \n",
       "\n",
       "                                         description  \\\n",
       "0  Muzej na prostem sestavljajo skupina 17 kozolc...   \n",
       "1  Nadstropna vogalna stavba poznosrednjeveške za...   \n",
       "2  Vrhkletna oz. vrhhlevna kamnita hiša s štiride...   \n",
       "3  Nadstropna stavba s tlorisom v L in slikovito ...   \n",
       "4  Bronast kip Pastirček ali Deček s piščalko del...   \n",
       "\n",
       "                                            keywords   latitude  longitude  \\\n",
       "0  muzej na prostem, kozolec na psa, kozolec s pl...  45.974832  15.091435   \n",
       "1                                    hiša, pivovarna  46.557815  15.644199   \n",
       "2                       vrhhlevna hiša, črna kuhinja  46.189711  13.578127   \n",
       "3      dvorec, gospodarsko poslopje, drevored, marof  46.403391  15.789574   \n",
       "4                                     vrtna plastika  46.053135  14.494178   \n",
       "\n",
       "                    name      region                       type address city  \\\n",
       "0       Muzej na prostem  ŠENTRUPERT  profana stavbna dediščina     NaN  NaN   \n",
       "1         Hiša Koroška 2     MARIBOR  profana stavbna dediščina     NaN  NaN   \n",
       "2            Nježna hiša     KOBARID  profana stavbna dediščina     NaN  NaN   \n",
       "3       Dvorec Sternthal   KIDRIČEVO  profana stavbna dediščina     NaN  NaN   \n",
       "4  Bronast kip Pastirček   LJUBLJANA  profana stavbna dediščina     NaN  NaN   \n",
       "\n",
       "  postal_code  \n",
       "0         NaN  \n",
       "1         NaN  \n",
       "2         NaN  \n",
       "3         NaN  \n",
       "4         NaN  "
      ]
     },
     "execution_count": 12,
     "metadata": {},
     "output_type": "execute_result"
    }
   ],
   "source": [
    "df_full = pd.concat([df_culture, df_museums], ignore_index=True, sort=False)\n",
    "df_full.head()"
   ]
  },
  {
   "cell_type": "code",
   "execution_count": 13,
   "metadata": {},
   "outputs": [
    {
     "data": {
      "text/plain": [
       "LJUBLJANA                       354\n",
       "NOVO MESTO                       55\n",
       "MARIBOR                          54\n",
       "SEŽANA                           47\n",
       "RADOVLJICA                       46\n",
       "TOLMIN                           45\n",
       "KOPER                            43\n",
       "POSTOJNA                         39\n",
       "IDRIJA                           37\n",
       "KOBARID                          35\n",
       "KRANJ                            34\n",
       "BREŽICE                          34\n",
       "NOVA GORICA                      32\n",
       "DIVAČA                           32\n",
       "PIRAN                            30\n",
       "ŠKOFJA LOKA                      28\n",
       "VIPAVA                           28\n",
       "KAMNIK                           25\n",
       "AJDOVŠČINA                       25\n",
       "CELJE                            24\n",
       "ČRNOMELJ                         24\n",
       "KRŠKO                            23\n",
       "KOMEN                            22\n",
       "PIVKA                            21\n",
       "BOHINJ                           21\n",
       "ILIRSKA BISTRICA                 20\n",
       "BRDA                             20\n",
       "SLOVENSKA BISTRICA               20\n",
       "PTUJ                             19\n",
       "SLOVENJ GRADEC                   19\n",
       "                               ... \n",
       "PODLEHNIK                         1\n",
       "MIKLAVŽ NA DRAVSKEM POLJU         1\n",
       "LENDAVA-LENDAVA                   1\n",
       "SREDIŠČE OB DRAVI                 1\n",
       "SVETI TOMAŽ                       1\n",
       "PREBOLD                           1\n",
       "VIDEM                             1\n",
       "ANKARAN                           1\n",
       "PESNICA                           1\n",
       "ŠMARTNO OB PAKI                   1\n",
       "ČRENŠOVCI                         1\n",
       "HORJUL                            1\n",
       "VRANSKO                           1\n",
       "LUČE                              1\n",
       "DESTRNIK                          1\n",
       "BOROVNICA                         1\n",
       "MOZIRJE                           1\n",
       "GORIŠNICA                         1\n",
       "OSILNICA                          1\n",
       "ŽIRI                              1\n",
       "ŽETALE                            1\n",
       "DOBREPOLJE                        1\n",
       "CIRKULANE                         1\n",
       "KOBILJE                           1\n",
       "SVETI ANDRAŽ V SLOV. GORICAH      1\n",
       "DUPLEK                            1\n",
       "ŠENTILJ                           1\n",
       "RIBNICA NA POHORJU                1\n",
       "DOBJE                             1\n",
       "                                  1\n",
       "Name: region, Length: 201, dtype: int64"
      ]
     },
     "execution_count": 13,
     "metadata": {},
     "output_type": "execute_result"
    }
   ],
   "source": [
    "df_full.region.value_counts()"
   ]
  },
  {
   "cell_type": "code",
   "execution_count": 14,
   "metadata": {},
   "outputs": [
    {
     "data": {
      "text/plain": [
       "<matplotlib.axes._subplots.AxesSubplot at 0x7f0636e9ebe0>"
      ]
     },
     "execution_count": 14,
     "metadata": {},
     "output_type": "execute_result"
    },
    {
     "data": {
      "image/png": "[encoded data removed]",
      "text/plain": [
       "<Figure size 432x288 with 1 Axes>"
      ]
     },
     "metadata": {
      "needs_background": "light"
     },
     "output_type": "display_data"
    }
   ],
   "source": [
    "df_full.type.value_counts().plot.barh()"
   ]
  },
  {
   "cell_type": "code",
   "execution_count": 26,
   "metadata": {},
   "outputs": [],
   "source": [
    "with open('./data/full.json', 'w') as f:\n",
    "    df_full.to_json(f, force_ascii=False, orient='records')"
   ]
  },
  {
   "cell_type": "markdown",
   "metadata": {},
   "source": [
    "## Bela krajina\n",
    "\n",
    "https://en.wikipedia.org/wiki/White_Carniola"
   ]
  },
  {
   "cell_type": "code",
   "execution_count": 16,
   "metadata": {},
   "outputs": [
    {
     "data": {
      "text/plain": [
       "53"
      ]
     },
     "execution_count": 16,
     "metadata": {},
     "output_type": "execute_result"
    }
   ],
   "source": [
    "bela_krajina = df_full[df_full.region.isin(['METLIKA', 'ČRNOMELJ', 'SEMIČ'])]\n",
    "len(bela_krajina)"
   ]
  },
  {
   "cell_type": "code",
   "execution_count": 17,
   "metadata": {},
   "outputs": [
    {
     "data": {
      "text/plain": [
       "<matplotlib.axes._subplots.AxesSubplot at 0x7f0634772e80>"
      ]
     },
     "execution_count": 17,
     "metadata": {},
     "output_type": "execute_result"
    },
    {
     "data": {
      "image/png": "[encoded data removed]",
      "text/plain": [
       "<Figure size 432x288 with 1 Axes>"
      ]
     },
     "metadata": {
      "needs_background": "light"
     },
     "output_type": "display_data"
    }
   ],
   "source": [
    "bela_krajina.type.value_counts().plot.barh()"
   ]
  },
  {
   "cell_type": "markdown",
   "metadata": {},
   "source": [
    "## Brezje\n",
    "\n",
    "https://skupnostobcin.si/podatki/zemljevid-obcin-tabela/#p2"
   ]
  },
  {
   "cell_type": "code",
   "execution_count": 18,
   "metadata": {},
   "outputs": [
    {
     "data": {
      "text/plain": [
       "87"
      ]
     },
     "execution_count": 18,
     "metadata": {},
     "output_type": "execute_result"
    }
   ],
   "source": [
    "brezje = df_full[df_full.region.isin(['RADOVLJICA', 'BLED', 'BOHINJ', 'NAKLO'])]\n",
    "len(brezje)"
   ]
  },
  {
   "cell_type": "code",
   "execution_count": 19,
   "metadata": {},
   "outputs": [
    {
     "data": {
      "text/plain": [
       "<matplotlib.axes._subplots.AxesSubplot at 0x7f0634710e10>"
      ]
     },
     "execution_count": 19,
     "metadata": {},
     "output_type": "execute_result"
    },
    {
     "data": {
      "image/png": "[encoded data removed]",
      "text/plain": [
       "<Figure size 432x288 with 1 Axes>"
      ]
     },
     "metadata": {
      "needs_background": "light"
     },
     "output_type": "display_data"
    }
   ],
   "source": [
    "brezje.type.value_counts().plot.barh()"
   ]
  },
  {
   "cell_type": "code",
   "execution_count": 25,
   "metadata": {
    "scrolled": false
   },
   "outputs": [
    {
     "data": {
      "text/plain": [
       "1576     Park gradu Katzenstein\n",
       "1604    Park gradu v Radovljici\n",
       "Name: name, dtype: object"
      ]
     },
     "execution_count": 25,
     "metadata": {},
     "output_type": "execute_result"
    }
   ],
   "source": [
    "brezje[brezje.type.str.contains('vrtno')].name"
   ]
  },
  {
   "cell_type": "code",
   "execution_count": null,
   "metadata": {},
   "outputs": [],
   "source": []
  }
 ],
 "metadata": {
  "kernelspec": {
   "display_name": "Python 3",
   "language": "python",
   "name": "python3"
  },
  "language_info": {
   "codemirror_mode": {
    "name": "ipython",
    "version": 3
   },
   "file_extension": ".py",
   "mimetype": "text/x-python",
   "name": "python",
   "nbconvert_exporter": "python",
   "pygments_lexer": "ipython3",
   "version": "3.7.0"
  }
 },
 "nbformat": 4,
 "nbformat_minor": 2
}
